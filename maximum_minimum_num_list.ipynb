{
  "nbformat": 4,
  "nbformat_minor": 0,
  "metadata": {
    "colab": {
      "provenance": []
    },
    "kernelspec": {
      "name": "python3",
      "display_name": "Python 3"
    },
    "language_info": {
      "name": "python"
    }
  },
  "cells": [
    {
      "cell_type": "code",
      "source": [
        "def find_maximum_minimum(lst):\n",
        "\n",
        "    if not lst:\n",
        "        return None, None\n",
        "    maximum_num = lst[0]\n",
        "    minimum_num = lst[0]\n",
        "    for num in lst:\n",
        "      if num > maximum_num:\n",
        "            maximum_num = num\n",
        "      if num < minimum_num:\n",
        "            minimum_num = num\n",
        "\n",
        "    return maximum_num, minimum_num\n",
        "my_list = [1,2,3,4,5,6,7,8,9,0]\n",
        "max_value, min_value = find_maximum_minimum(my_list)\n",
        "print(\"Largest number:\", max_value)\n",
        "print(\"Smallest number:\", min_value)\n"
      ],
      "metadata": {
        "colab": {
          "base_uri": "https://localhost:8080/"
        },
        "id": "BO-AEb_ouODj",
        "outputId": "072f0731-a5b9-4e90-af44-cf21eb54071d"
      },
      "execution_count": 34,
      "outputs": [
        {
          "output_type": "stream",
          "name": "stdout",
          "text": [
            "Largest number: 9\n",
            "Smallest number: 0\n"
          ]
        }
      ]
    }
  ]
}