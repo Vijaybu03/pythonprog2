{
  "nbformat": 4,
  "nbformat_minor": 0,
  "metadata": {
    "colab": {
      "provenance": []
    },
    "kernelspec": {
      "name": "python3",
      "display_name": "Python 3"
    },
    "language_info": {
      "name": "python"
    }
  },
  "cells": [
    {
      "cell_type": "code",
      "source": [
        "class Person:\n",
        "    def __init__(self, name, age):\n",
        "\n",
        "        self.__name = name\n",
        "        self.__age = age\n",
        "\n",
        "\n",
        "    def get_name(self):\n",
        "        return self.__name\n",
        "\n",
        "\n",
        "    def set_name(self, name):\n",
        "        if isinstance(name, str) and len(name) > 0:\n",
        "            self.__name = name\n",
        "        else:\n",
        "            print(\"Invalid name\")\n",
        "\n",
        "\n",
        "    def get_age(self):\n",
        "        return self.__age\n",
        "\n",
        "\n",
        "    def set_age(self, age):\n",
        "        if isinstance(age, int) and age >= 0:\n",
        "            self.__age = age\n",
        "        else:\n",
        "            print(\"Invalid age\")\n",
        "\n",
        "person = Person(\"alia bhatt\", 30)\n",
        "\n",
        "\n",
        "print(f\"Name: {person.get_name()}\")\n",
        "print(f\"Age: {person.get_age()}\")\n",
        "\n",
        "\n",
        "person.set_name(\"vikas\")\n",
        "person.set_age(25)\n",
        "\n",
        "\n",
        "print(f\"Updated Name: {person.get_name()}\")\n",
        "print(f\"Updated Age: {person.get_age()}\")\n"
      ],
      "metadata": {
        "colab": {
          "base_uri": "https://localhost:8080/"
        },
        "id": "8_bjaf__BAao",
        "outputId": "4673ee4b-2b28-4384-f00a-de2fc8232a55"
      },
      "execution_count": 45,
      "outputs": [
        {
          "output_type": "stream",
          "name": "stdout",
          "text": [
            "Name: alia bhatt\n",
            "Age: 30\n",
            "Updated Name: vikas\n",
            "Updated Age: 25\n"
          ]
        }
      ]
    }
  ]
}