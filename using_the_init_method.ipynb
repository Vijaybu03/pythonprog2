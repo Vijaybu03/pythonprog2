{
  "nbformat": 4,
  "nbformat_minor": 0,
  "metadata": {
    "colab": {
      "provenance": []
    },
    "kernelspec": {
      "name": "python3",
      "display_name": "Python 3"
    },
    "language_info": {
      "name": "python"
    }
  },
  "cells": [
    {
      "cell_type": "code",
      "source": [
        "class Car:\n",
        "\n",
        "    def __init__(self, brand, model):\n",
        "        self.brand = brand\n",
        "        self.model = model\n",
        "\n",
        "    def display_info(self):\n",
        "\n",
        "        print(f\"Car Brand: {self.brand}\")\n",
        "        print(f\"Car Model: {self.model}\")\n",
        "\n",
        "\n",
        "my_car = Car(\"Honda\", \"Civic\")\n",
        "\n",
        "\n",
        "my_car.display_info()\n"
      ],
      "metadata": {
        "id": "mAGJiKPdARVt"
      },
      "execution_count": null,
      "outputs": []
    }
  ]
}