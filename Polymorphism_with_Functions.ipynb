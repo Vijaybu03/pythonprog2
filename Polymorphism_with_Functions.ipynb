{
  "nbformat": 4,
  "nbformat_minor": 0,
  "metadata": {
    "colab": {
      "provenance": []
    },
    "kernelspec": {
      "name": "python3",
      "display_name": "Python 3"
    },
    "language_info": {
      "name": "python"
    }
  },
  "cells": [
    {
      "cell_type": "code",
      "source": [
        "class Car:\n",
        "    def drive(self):\n",
        "        print(\"The car is driving.\")\n",
        "\n",
        "class Truck:\n",
        "    def drive(self):\n",
        "        print(\"The truck is driving.\")\n",
        "\n",
        "\n",
        "def start_driving(vehicle):\n",
        "    vehicle.drive()\n",
        "#\n",
        "my_car = Car()\n",
        "my_truck = Truck()\n",
        "\n",
        "\n",
        "start_driving(my_car)\n",
        "start_driving(my_truck)\n"
      ],
      "metadata": {
        "id": "jBur8MyCC_9H"
      },
      "execution_count": null,
      "outputs": []
    }
  ]
}