{
  "nbformat": 4,
  "nbformat_minor": 0,
  "metadata": {
    "colab": {
      "provenance": []
    },
    "kernelspec": {
      "name": "python3",
      "display_name": "Python 3"
    },
    "language_info": {
      "name": "python"
    }
  },
  "cells": [
    {
      "cell_type": "code",
      "source": [
        "class Vehicle:\n",
        "\n",
        "    vehicle_count = 0\n",
        "\n",
        "    def __init__(self, brand, model):\n",
        "        self.brand = brand\n",
        "        self.model = model\n",
        "\n",
        "        Vehicle.vehicle_count += 1\n",
        "\n",
        "\n",
        "    def display_info(self):\n",
        "        print(f\"Brand: {self.brand}, Model: {self.model}\")\n",
        "\n",
        "\n",
        "    @classmethod\n",
        "    def get_vehicle_count(cls):\n",
        "        print(f\"Total vehicles: {cls.vehicle_count}\")\n",
        "\n",
        "\n",
        "    @staticmethod\n",
        "    def is_motor_vehicle(vehicle_type):\n",
        "        motor_vehicles = ['Car', 'Truck', 'Motorcycle']\n",
        "        if vehicle_type in motor_vehicles:\n",
        "            print(f\"{vehicle_type} is a motor vehicle.\")\n",
        "        else:\n",
        "            print(f\"{vehicle_type} is not a motor vehicle.\")\n",
        "\n",
        "\n",
        "\n",
        "vehicle1 = Vehicle(\"Toyota\", \"Corolla\")\n",
        "vehicle2 = Vehicle(\"Honda\", \"Civic\")\n",
        "\n",
        "Vehicle.get_vehicle_count()\n",
        "\n",
        "\n",
        "Vehicle.is_motor_vehicle(\"Car\")\n",
        "Vehicle.is_motor_vehicle(\"Bicycle\")\n",
        "vehicle1.display_info()\n",
        "vehicle2.display_info()\n"
      ],
      "metadata": {
        "id": "vH0ZTjGrE75N"
      },
      "execution_count": null,
      "outputs": []
    }
  ]
}