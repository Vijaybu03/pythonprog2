{
  "nbformat": 4,
  "nbformat_minor": 0,
  "metadata": {
    "colab": {
      "provenance": []
    },
    "kernelspec": {
      "name": "python3",
      "display_name": "Python 3"
    },
    "language_info": {
      "name": "python"
    }
  },
  "cells": [
    {
      "cell_type": "code",
      "source": [
        "\n",
        "class Animal:\n",
        "    def __init__(self, name, age):\n",
        "        self.name = name\n",
        "        self.age = age\n",
        "\n",
        "    def speak(self):\n",
        "        print(f\"{self.name} makes a sound\")\n",
        "\n",
        "\n",
        "class Dog(Animal):\n",
        "    def __init__(self, name, age, breed):\n",
        "\n",
        "        super().__init__(name, age)\n",
        "        self.breed = breed\n",
        "\n",
        "    def speak(self):\n",
        "        print(f\"{self.name} barks\")\n",
        "\n",
        "\n",
        "    def fetch(self):\n",
        "        print(f\"{self.name} is fetching the ball!\")\n",
        "\n",
        "\n",
        "dog = Dog(\"Buddy\", 3, \"Golden Retriever\")\n",
        "\n",
        "\n",
        "dog.speak()\n",
        "\n",
        "dog.fetch()\n",
        "\n",
        "print(f\"{dog.name} is a {dog.breed} and is {dog.age} years old.\")\n"
      ],
      "metadata": {
        "colab": {
          "base_uri": "https://localhost:8080/"
        },
        "id": "pkVq7Q-GCGpw",
        "outputId": "a1cd41a1-b7bf-4740-ff69-0385a9717b93"
      },
      "execution_count": 46,
      "outputs": [
        {
          "output_type": "stream",
          "name": "stdout",
          "text": [
            "Buddy barks\n",
            "Buddy is fetching the ball!\n",
            "Buddy is a Golden Retriever and is 3 years old.\n"
          ]
        }
      ]
    }
  ]
}