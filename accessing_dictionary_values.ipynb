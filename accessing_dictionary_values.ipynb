{
  "nbformat": 4,
  "nbformat_minor": 0,
  "metadata": {
    "colab": {
      "provenance": []
    },
    "kernelspec": {
      "name": "python3",
      "display_name": "Python 3"
    },
    "language_info": {
      "name": "python"
    }
  },
  "cells": [
    {
      "cell_type": "code",
      "source": [
        "\n",
        "my_dict = {\n",
        "    \"name\": \"Alice\",\n",
        "    \"age\": 25,\n",
        "    \"city\": \"New York\"\n",
        "}\n",
        "\n",
        "\n",
        "name_value = my_dict[\"name\"]\n",
        "age_value = my_dict[\"age\"]\n",
        "city_value = my_dict[\"city\"]\n",
        "\n",
        "\n",
        "print(\"Name:\", name_value)\n",
        "print(\"Age:\", age_value)\n",
        "print(\"City:\", city_value)\n",
        "\n",
        "\n",
        "name_value_get = my_dict.get(\"name\")\n",
        "age_value_get = my_dict.get(\"age\")\n",
        "city_value_get = my_dict.get(\"city\")\n",
        "\n",
        "print(\"Name (using get()):\", name_value_get)\n",
        "print(\"Age (using get()):\", age_value_get)\n",
        "print(\"City (using get()):\", city_value_get)\n"
      ],
      "metadata": {
        "colab": {
          "base_uri": "https://localhost:8080/"
        },
        "id": "YC0FXP643Bkg",
        "outputId": "9ee5918f-984a-4efc-b84f-54ccf2055c3a"
      },
      "execution_count": 79,
      "outputs": [
        {
          "output_type": "stream",
          "name": "stdout",
          "text": [
            "Name: Alice\n",
            "Age: 25\n",
            "City: New York\n",
            "Name (using get()): Alice\n",
            "Age (using get()): 25\n",
            "City (using get()): New York\n"
          ]
        }
      ]
    }
  ]
}